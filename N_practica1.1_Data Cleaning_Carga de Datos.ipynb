{
 "cells": [
  {
   "cell_type": "markdown",
   "metadata": {},
   "source": [
    "# Descarga y Procesado de un dataset desde una url externa"
   ]
  },
  {
   "cell_type": "code",
   "execution_count": 1,
   "metadata": {},
   "outputs": [],
   "source": [
    "url = 'http://winterolympicsmedals.com/medals.csv'\n",
    "mainpath= 'C:/Users/pilar/OneDrive/Documentos/python-ml-course/datasets'\n",
    "filename = 'medals_dataset/medals.csv'\n",
    "\n",
    "import pandas as pd\n",
    "import urllib3\n",
    "import chardet\n",
    "import os\n",
    "   \n",
    "def get_response(url):\n",
    "    http = urllib3.PoolManager()\n",
    "    r = http.request('GET', url)\n",
    "    print(r.status)\n",
    "    response = r.data\n",
    "    return response\n",
    "   \n",
    "def make_unicode(response):\n",
    "    encoding = chardet.detect(response)\n",
    "    if encoding['encoding'] != 'utf-8':\n",
    "        response = response.decode('utf-8')\n",
    "        lines = response.split('\\\\n')\n",
    "        return response\n",
    "    else:\n",
    "        return response\n",
    "    \n",
    "def make_dict(unicode):\n",
    "    lines = unicode.split('\\\\n')\n",
    "    col_names = lines[0].split(',')\n",
    "    counter = 0\n",
    "    main_dict = {}\n",
    "    for col in col_names:\n",
    "        main_dict[col] = []\n",
    "        for line in lines:\n",
    "            if (counter > 0):\n",
    "                values = line.strip().split(',')\n",
    "                for i in range(len(col_names)):\n",
    "                    main_dict[col_names[i]].append(values[i])\n",
    "                    counter += 1\n",
    "    return main_dict\n",
    "                \n",
    "def make_df(unicode_dict):\n",
    "    dataframe1 = pd.DataFrame(unicode_dict)\n",
    "    return dataframe1\n",
    "\n",
    "def save_csv(df, mainpath, filename):\n",
    "    fullpath = os.path.join(mainpath, filename)\n",
    "    medals_dataset = df.to_csv(fullpath)\n",
    "    return medals_dataset"
   ]
  },
  {
   "cell_type": "markdown",
   "metadata": {},
   "source": [
    "# Descarga y lectura de datos desde ficheros .xls"
   ]
  },
  {
   "cell_type": "code",
   "execution_count": null,
   "metadata": {},
   "outputs": [],
   "source": [
    "# Abrir ficheros xls y xlsx.\n",
    "mainpath = 'C:/Users/pilar/OneDrive/Documentos/python-ml-course/datasets'\n",
    "filename = 'titanic/titanic3.xls'\n",
    "fullpath = os.path.join(mainpath, filename)\n",
    "\n",
    "# Leer un archivo excel, indicando la sheet que se desea leer.\n",
    "import pandas as pd\n",
    "titanic_dataset = pd.read_excel(fullpath, 'titanic3')"
   ]
  },
  {
   "cell_type": "markdown",
   "metadata": {},
   "source": [
    "### Creación de un archivo .csv y .json a partir de un archivo .xls"
   ]
  },
  {
   "cell_type": "code",
   "execution_count": null,
   "metadata": {},
   "outputs": [],
   "source": [
    "titanic_dataset.to_csv(mainpath + '/' + '/titanic/titanic3_custom1.csv')\n",
    "titanic_dataset.to_json(mainpath + '/' + '/titanic/titanic3_custom1.json')"
   ]
  }
 ],
 "metadata": {
  "kernelspec": {
   "display_name": "Python 3",
   "language": "python",
   "name": "python3"
  },
  "language_info": {
   "codemirror_mode": {
    "name": "ipython",
    "version": 3
   },
   "file_extension": ".py",
   "mimetype": "text/x-python",
   "name": "python",
   "nbconvert_exporter": "python",
   "pygments_lexer": "ipython3",
   "version": "3.8.3"
  }
 },
 "nbformat": 4,
 "nbformat_minor": 4
}
