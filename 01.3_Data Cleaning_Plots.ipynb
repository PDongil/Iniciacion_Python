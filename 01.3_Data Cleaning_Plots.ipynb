{
 "cells": [
  {
   "cell_type": "code",
   "execution_count": null,
   "metadata": {},
   "outputs": [],
   "source": [
    "import pandas as pd\n",
    "import numpy as np\n",
    "import matplotlib.pyplot as plt\n",
    "\n",
    "df = pd.read_csv(r'C:\\\\Users\\\\pilar\\\\Documents\\\\GitHub\\\\python-ml-course\\\\datasets\\\\customer-churn-model\\\\Customer Churn Model.txt')"
   ]
  },
  {
   "cell_type": "code",
   "execution_count": null,
   "metadata": {},
   "outputs": [],
   "source": [
    "# Representación gráfica por un scatter plot.\n",
    "def CreateScatterPlot(df, X_variable, Y_variable, scatter_name):\n",
    "    plot = df.plot(kind = 'scatter', x = X_variable, y = Y_variable, title = scatter_name)\n",
    "    return plt.show()"
   ]
  },
  {
   "cell_type": "code",
   "execution_count": null,
   "metadata": {},
   "outputs": [],
   "source": [
    "# Representaciones de caja de bigotes que comparten en el mismo eje la misma variable.Compartir la escala de los ejes en las variables mediante share.\"\n",
    " \n",
    "def DisplayBoxPlot(df, variable, box_name, axis_name):\n",
    "    plt.boxplot(df[variable])\n",
    "    plt.title(box_name)\n",
    "    plt.ylabel(axis_name)\n",
    "    IQR = round(df[variable].quantile(0.75) - df[variable].quantile(0.25))\n",
    "    print(f'El resultado del rango intercuartil es {IQR}')\n",
    "    std_positive = round(df[variable].quantile(0.75) + 1.5 * IQR)\n",
    "    std_negative = round(df[variable].quantile(0.25) - 1.5 * IQR)\n",
    "    print(f'La dispersion de los datos es {std_positive} {std_negative}')\n",
    "    return plt.show()"
   ]
  }
 ],
 "metadata": {
  "kernelspec": {
   "display_name": "Python 3",
   "language": "python",
   "name": "python3"
  },
  "language_info": {
   "codemirror_mode": {
    "name": "ipython",
    "version": 3
   },
   "file_extension": ".py",
   "mimetype": "text/x-python",
   "name": "python",
   "nbconvert_exporter": "python",
   "pygments_lexer": "ipython3",
   "version": "3.8.3"
  }
 },
 "nbformat": 4,
 "nbformat_minor": 4
}
